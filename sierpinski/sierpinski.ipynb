{
 "cells": [
  {
   "cell_type": "code",
   "execution_count": 1,
   "id": "cd7fb2ca-c07f-44a7-bc63-9ea8c3e3a227",
   "metadata": {},
   "outputs": [],
   "source": [
    "import math\n",
    "from turtle import Turtle, Screen"
   ]
  },
  {
   "cell_type": "code",
   "execution_count": 2,
   "id": "632b6ac1-5ad4-49ea-82b4-ff85658480a6",
   "metadata": {},
   "outputs": [],
   "source": [
    "#Draws a triangle with vertices (x0, y0), (x1, y1), and (x2, y2)\n",
    "# t: Turtle Graphics object for drawing\n",
    "# x: a list of 3 numbers corresponding to the x coordinates of the vertices of the triangle to draw\n",
    "# y: a list of 3 numbers corresponding to the x coordinates of the vertices of the triangle to draw\n",
    "def draw_triangle(t, x, y):\n",
    "    coors = [(x[0], y[0]), (x[1], y[1]), (x[2], y[2])]\n",
    "    drawtriangle(t, coors)"
   ]
  },
  {
   "cell_type": "code",
   "execution_count": 3,
   "id": "e71ba23b-629f-4ee3-97ee-121779d3624e",
   "metadata": {},
   "outputs": [],
   "source": [
    "# Draws a filled triangle with vertices (x0, y0), (x1, y1), and (x2, y2)\n",
    "# t: Turtle Graphics object for drawing\n",
    "# x: a list of 3 numbers corresponding to the x coordinates of the vertices of the triangle to draw\n",
    "# y: a list of 3 numbers corresponding to the x coordinates of the vertices of the triangle to draw\n",
    "def draw_filled_triangle(t, x, y, col):\n",
    "    coors = [(x[0], y[0]), (x[1], y[1]), (x[2], y[2])]\n",
    "    drawfilledtriangle(t, coors, col)"
   ]
  },
  {
   "cell_type": "code",
   "execution_count": 4,
   "id": "5dd38cbb-3f59-42c3-8ce3-3833a193b90c",
   "metadata": {},
   "outputs": [],
   "source": [
    "# Draws a triangle with vertices (x0, y0), (x1, y1), and (x2, y2)\n",
    "# t: Turtle Graphics object for drawing\n",
    "# points: a vector of (x, y) coordinates of the vertices of the triangle to draw like\n",
    "#\n",
    "#       [(x[0], y[0]), (x[1], y[1]), (x[2], y[2])]\n",
    "#\n",
    "def drawtriangle(t, points):\n",
    "    t.penup()\n",
    "    s = t.getscreen()\n",
    "    w = s.canvwidth\n",
    "    h = s.canvheight\n",
    "    t.goto(w * points[0][0], w * points[0][1])\n",
    "    t.pendown()\n",
    "    for point in points:\n",
    "        t.goto(w * point[0], w * point[1])\n",
    "\n",
    "    t.goto(w * points[0][0], w * points[0][1])  # Go back to the origin to close the polygon shape"
   ]
  },
  {
   "cell_type": "code",
   "execution_count": 5,
   "id": "f0edaba6-3aa8-4a86-8a84-56a4e6c39897",
   "metadata": {},
   "outputs": [],
   "source": [
    "# Draws a filled triangle with vertices (x0, y0), (x1, y1), and (x2, y2)\n",
    "# t: Turtle Graphics object for drawing\n",
    "# points: a vector of (x, y) coordinates of the vertices of the triangle to draw like\n",
    "#\n",
    "#       [(x[0], y[0]), (x[1], y[1]), (x[2], y[2])]\n",
    "#\n",
    "def drawfilledtriangle(t, points, col):\n",
    "    t.penup()\n",
    "    s = t.getscreen()\n",
    "    w = s.canvwidth\n",
    "    h = s.canvheight\n",
    "    t.fillcolor(col)\n",
    "    t.begin_fill()\n",
    "    t.goto(w * points[0][0], w * points[0][1])\n",
    "    t.pendown()\n",
    "    for point in points:\n",
    "        t.goto(w * point[0], w * point[1])\n",
    "\n",
    "    t.goto(w * points[0][0], w * points[0][1])  # Go back to the origin to close the polygon shape\n",
    "    t.end_fill()"
   ]
  },
  {
   "cell_type": "code",
   "execution_count": 6,
   "id": "abbcbb11-e7ba-492f-b9b1-38afbd83e776",
   "metadata": {},
   "outputs": [],
   "source": [
    "col = [\"#FF0000\", \"#00FF00\", \"#0000FF\", \"#FF00FF\", \"#00FFFF\", \"#800000\", \"#800080\"]\n",
    "\n",
    "#\n",
    "# Draws one triangle with bottom vertex at coordinate (x, y) and side length of s.\n",
    "#\n",
    "# Then, recursively calls itself three times to generate the next set of Sierpinski\n",
    "# triangles to the left, to the right, and above the current triangle you just drew.\n",
    "# Here the parameters are:\n",
    "# t: Turtle Graphics object for drawing\n",
    "# n: the number of recursive iterations\n",
    "# x, y: the coordinates of the vertex of the equilateral filled triangle with side\n",
    "#       length of s to be drawn pointing down.\n",
    "# s: The side length of the equilateral filled triangle to draw\n",
    "def sierpinski(t, n, x, y, s):\n",
    "    # Draw one triangle, bottom vertex at (x, y), side length s.\n",
    "    # Then, recursively call itself three times to generate the\n",
    "    # next order Sierpinski triangles above, left and right of current triangle\n",
    "\n",
    "    if n == 0:\n",
    "        return True\n",
    "    else:\n",
    "\n",
    "        n -= 1\n",
    "        colorcode = col[n]\n",
    "\n",
    "        x_coordinates = (x, x + s/2, x - s/2)\n",
    "        y_coordinates = (y , y + math.sqrt(3)*s/2, y + math.sqrt(3)*s/2)\n",
    "        draw_filled_triangle(t, x_coordinates, y_coordinates, colorcode)\n",
    "\n",
    "        left_triangle_vertex = (x - s/2 , y)\n",
    "        right_triangle_vertex = (x + s/2, y)\n",
    "        upper_triangle_vertex = (x, y + math.sqrt(3)*s/2)\n",
    "\n",
    "        sierpinski(t, n, left_triangle_vertex[0], left_triangle_vertex[1], s/2)\n",
    "        sierpinski(t, n, right_triangle_vertex[0], right_triangle_vertex[1], s/2)\n",
    "        sierpinski(t, n, upper_triangle_vertex[0], upper_triangle_vertex[1], s/2)\n",
    "        return"
   ]
  },
  {
   "cell_type": "code",
   "execution_count": 7,
   "id": "05a404a9-3b0c-4f0a-b88e-aa539d86f770",
   "metadata": {},
   "outputs": [
    {
     "name": "stdin",
     "output_type": "stream",
     "text": [
      "Number of iterations:  4\n"
     ]
    }
   ],
   "source": [
    "def main():\n",
    "    n = int(input(\"Number of iterations: \"))\n",
    "\n",
    "    t = Turtle('turtle')\n",
    "    screen = t.getscreen()\n",
    "    screen.setworldcoordinates(0, 0, screen.window_width(), screen.window_height())\n",
    "    t.hideturtle()\n",
    "\n",
    "    # Draw the main unfilled equilateral triangle.\n",
    "    # Each side of this triangle will be equal to 1 (normalized depending on your screen resolution).\n",
    "    # See the first figure in the assignment sheet.\n",
    "    xCoors = [0, 1.0, 0.5]\n",
    "    yCoors = [0, 0, math.sqrt(3) / 2]\n",
    "    draw_triangle(t, xCoors, yCoors)\n",
    "\n",
    "    # The x and y coordinates of the vertex of the triangle that will point\n",
    "    # downwards.  See the filled triangle in the first figure in the assignment\n",
    "    # sheet.\n",
    "    xi = 0.5\n",
    "    yi= 0\n",
    "    side_length = 1.0\n",
    "    sierpinski(t, n, xi, yi, side_length/2)\n",
    "\n",
    "    # This will make sure your graph will be up until you close it.\n",
    "    screen.exitonclick()\n",
    "\n",
    "main()"
   ]
  },
  {
   "cell_type": "code",
   "execution_count": null,
   "id": "b0f28fe3-ff1a-4844-8eb7-474c2c8d6412",
   "metadata": {},
   "outputs": [],
   "source": []
  }
 ],
 "metadata": {
  "kernelspec": {
   "display_name": "Python 3 (ipykernel)",
   "language": "python",
   "name": "python3"
  },
  "language_info": {
   "codemirror_mode": {
    "name": "ipython",
    "version": 3
   },
   "file_extension": ".py",
   "mimetype": "text/x-python",
   "name": "python",
   "nbconvert_exporter": "python",
   "pygments_lexer": "ipython3",
   "version": "3.9.7"
  }
 },
 "nbformat": 4,
 "nbformat_minor": 5
}
